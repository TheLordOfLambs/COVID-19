{
 "cells": [
  {
   "cell_type": "markdown",
   "metadata": {},
   "source": [
    "Essayons de modéliser l'épidémie COVID-19 à l'aide d'un modèle compartimental"
   ]
  },
  {
   "cell_type": "markdown",
   "metadata": {},
   "source": [
    "Nous considèrerons 4 catégories **S** sain **I** infecté **R** rétabli **M** mort"
   ]
  },
  {
   "cell_type": "markdown",
   "metadata": {},
   "source": [
    "Soit $\\alpha$ le nombre de rencontre moyenne par jour entre individus, et $\\gamma$ le taux d'infection\n",
    "\n",
    "La variation d'individus infectés devient :\n",
    "\n",
    "$\\frac{dI}{dt}(t) = \\alpha \\gamma \\frac{S(t) I(t)}{S(t)+I(t)+R(t)}$"
   ]
  },
  {
   "cell_type": "markdown",
   "metadata": {},
   "source": [
    "Il faut donc enlever les nouveaux contaminés aux individus sains :\n",
    "\n",
    "$\\frac{dS}{dt}(t) = - \\alpha \\gamma \\frac{S(t) I(t)}{S(t)+I(t)+R(t)}$"
   ]
  },
  {
   "cell_type": "markdown",
   "metadata": {},
   "source": [
    "considérons un taux de guérison $\\lambda$ et un taux de mortalité $\\iota$, on obtient :\n",
    "\n",
    "$\\frac{dR}{dt}(t) = \\lambda I(t)$\n",
    "\n",
    "$\\frac{dM}{dt}(t) = \\iota I(t)$"
   ]
  },
  {
   "cell_type": "markdown",
   "metadata": {},
   "source": [
    "Il ne reste plus qu'a corriger le nombres d'individus infectés :\n",
    "\n",
    "$\\frac{dI}{dt}(t) = \\alpha \\gamma S(t) I(t) -\\lambda I(t) -\\iota I(t)$"
   ]
  },
  {
   "cell_type": "code",
   "execution_count": 1,
   "metadata": {},
   "outputs": [],
   "source": [
    "import numpy as np\n",
    "\n",
    "# pour coder nos equations différentielles on créé une fonction qui renverra un tableau des dérrivées dx \n",
    "def model1(x,t) :\n",
    "    #     | I\n",
    "    # x = | S\n",
    "    #     | R\n",
    "    #     | M\n",
    "    dx = np.copy(x)\n",
    "    p = 1/(x[0]+x[1]+x[2])\n",
    "    dx[0] = p*alpha*gamma*x[1]*x[0] -lbd*x[0] -iota*x[0]\n",
    "    dx[1] = -p*alpha*gamma*x[1]*x[0]\n",
    "    dx[2] = lbd*x[0]\n",
    "    dx[3] = iota*x[0]\n",
    "    \n",
    "    return dx"
   ]
  },
  {
   "cell_type": "code",
   "execution_count": 2,
   "metadata": {},
   "outputs": [],
   "source": [
    "xo = np.array([4000,60000000,0,90])\n",
    "alpha = 7      # nombre de personnes rencontrées par jours\n",
    "gamma = 0.32   # probabilité de contaminer une personne\n",
    "lbd = 1/5      # temps de guérison (5j)\n",
    "iota = 0.01    # taux de mortalité"
   ]
  },
  {
   "cell_type": "code",
   "execution_count": 3,
   "metadata": {},
   "outputs": [],
   "source": [
    "from scipy.integrate import odeint\n",
    "\n",
    "t = np.linspace(0., 40., 100)\n",
    "solution = odeint(model1, xo,t)\n",
    "solution = solution.T"
   ]
  },
  {
   "cell_type": "code",
   "execution_count": 4,
   "metadata": {},
   "outputs": [
    {
     "data": {
      "text/plain": [
       "<matplotlib.legend.Legend at 0x1b2fc212ec8>"
      ]
     },
     "execution_count": 4,
     "metadata": {},
     "output_type": "execute_result"
    }
   ],
   "source": [
    "import matplotlib.pyplot as plt\n",
    "\n",
    "plt.plot(t,solution[0],t,solution[1],t,solution[2],t,solution[3])\n",
    "plt.xlabel('temps en jours')\n",
    "plt.legend(['Infectés','Sains','Rétablis','Mort'])"
   ]
  },
  {
   "cell_type": "code",
   "execution_count": 5,
   "metadata": {},
   "outputs": [
    {
     "name": "stdout",
     "output_type": "stream",
     "text": [
      "Nombre de morts estimé : 2,855,591\n"
     ]
    }
   ],
   "source": [
    "print('Nombre de morts estimé : '+ format(solution[3][-1], '0,.0f'))\n"
   ]
  },
  {
   "cell_type": "markdown",
   "metadata": {},
   "source": [
    "Affinons un peu le modèle, séparons les individus infectés en deux groupes, ceux qui ne présentent pas encore de symptomes et qui se comportent comme des individus sains. Et ceux qui sont malades et qui restent chez eux pour éviter de contaminer leurs proches."
   ]
  },
  {
   "cell_type": "markdown",
   "metadata": {},
   "source": [
    "considérons un taux de guérison $\\lambda$ et un taux de mortalité $\\iota$, on obtient :\n",
    "\n",
    "$\\frac{dI_1}{dt}(t) = \\alpha \\gamma \\frac{S(t) I_1(t)}{S(t)+I_1(t)+R(t)} - \\delta I_1(t) $\n",
    "\n",
    "$\\frac{dI_2}{dt}(t) =\\delta I_1(t)-\\lambda I_2(t) -\\iota I_2(t) \\quad$  avec $\\delta$ le temps nécessaire pour avoir des symptomes\n",
    "\n",
    "$\\frac{dS}{dt}(t) = - \\alpha \\gamma \\frac{S(t) I_1(t)}{S(t)+I_1(t)+R(t)}$\n",
    "\n",
    "$\\frac{dR}{dt}(t) = \\lambda I_2(t)$\n",
    "\n",
    "$\\frac{dM}{dt}(t) = \\iota I_2(t)$"
   ]
  },
  {
   "cell_type": "code",
   "execution_count": 6,
   "metadata": {},
   "outputs": [],
   "source": [
    "def model2(x,t) :\n",
    "    #     | I1\n",
    "    #     | I2\n",
    "    # x = | S\n",
    "    #     | R\n",
    "    #     | M\n",
    "    \n",
    "    dx = np.empty((5,))\n",
    "    p = 1/(x[0]+x[2]+x[3])\n",
    "    dx[0] = alpha*gamma*p*x[0]*x[2] - delta*x[0]\n",
    "    dx[1] = delta*x[0] -lbd*x[1] -iota*x[1]\n",
    "    dx[2] = -alpha*gamma*p*x[0]*x[2] \n",
    "    dx[3] = lbd*x[1]\n",
    "    dx[4] = iota*x[1]\n",
    "    \n",
    "    return dx"
   ]
  },
  {
   "cell_type": "code",
   "execution_count": 7,
   "metadata": {},
   "outputs": [
    {
     "data": {
      "text/plain": [
       "<matplotlib.legend.Legend at 0x1b2fc42a888>"
      ]
     },
     "execution_count": 7,
     "metadata": {},
     "output_type": "execute_result"
    },
    {
     "data": {
      "image/png": "[encoded data removed]",
      "text/plain": [
       "<Figure size 432x288 with 1 Axes>"
      ]
     },
     "metadata": {
      "needs_background": "light"
     },
     "output_type": "display_data"
    }
   ],
   "source": [
    "xo = np.array([20,0,6e7,0,0])\n",
    "\n",
    "delta = 1/4    # temps d'apparition des symptomes (4j)\n",
    "alpha = 7      # nombre de personnes rencontrées par jours\n",
    "gamma = 0.32   # probabilité de contaminer une personne\n",
    "lbd = 1/5      # temps de guérison (5j)\n",
    "iota = 0.01    # taux de mortalité\n",
    "\n",
    "t = np.linspace(0., 60., 300)\n",
    "solution = odeint(model2, xo,t)\n",
    "solution = solution.T\n",
    "\n",
    "plt.plot(t,solution[0]+solution[1],t,solution[2],t,solution[3],t,solution[4])\n",
    "plt.xlabel('temps en jours')\n",
    "plt.legend(['Infectés','Sains','Rétablis','Mort'])"
   ]
  },
  {
   "cell_type": "code",
   "execution_count": 8,
   "metadata": {},
   "outputs": [
    {
     "name": "stdout",
     "output_type": "stream",
     "text": [
      "Nombre de morts estimé : 2,856,874\n"
     ]
    }
   ],
   "source": [
    "print('Nombre de morts estimé : '+ format(solution[4][-1], '0,.0f'))"
   ]
  },
  {
   "cell_type": "markdown",
   "metadata": {},
   "source": [
    "Considérons qu'une partie de la population prend peur plus le nombre de morts et d'infectés augmente.\n",
    "\n",
    "On peut donc moduler le nombres de rencontres par la fonction $1-\\frac{1}{1+e^{-a(I_2(t)+M(T)-b)}}$\n",
    "\n",
    "En gros plus il y a de morts ou d'infecté (malade) moins il y a de rencontres\n"
   ]
  },
  {
   "cell_type": "code",
   "execution_count": 9,
   "metadata": {},
   "outputs": [
    {
     "data": {
      "image/png": "[encoded data removed]",
      "text/plain": [
       "<Figure size 432x288 with 1 Axes>"
      ]
     },
     "metadata": {
      "needs_background": "light"
     },
     "output_type": "display_data"
    }
   ],
   "source": [
    "import matplotlib.ticker as ticker\n",
    "\n",
    "pop =  np.linspace(0., 2e5, 300)\n",
    "fct = 1-1/(1+np.exp(-7e-5*(pop-1e5)))\n",
    "\n",
    "fig, ax = plt.subplots()\n",
    "ax.plot(pop,fct)\n",
    "plt.ylabel(\"taux de rencontres\")\n",
    "plt.xlabel(\"nombres d'infectés et morts\")\n",
    "plt.grid('on')\n",
    "\n",
    "# Rewrite the y labels\n",
    "x_labels = ax.get_xticks()\n",
    "ax.xaxis.set_major_formatter(ticker.FormatStrFormatter('%0.0e'))"
   ]
  },
  {
   "cell_type": "code",
   "execution_count": 10,
   "metadata": {},
   "outputs": [],
   "source": [
    "def model3(x,t) :\n",
    "    #     | I1\n",
    "    #     | I2\n",
    "    # x = | S\n",
    "    #     | R\n",
    "    #     | M\n",
    "    \n",
    "    dx = np.empty((5,))\n",
    "    proba = 1-1/(1+np.exp(-7e-5*(x[1]+x[4]-1e5)))\n",
    "    \n",
    "    p = 1/(x[0]+x[2]+x[3])\n",
    "    dx[0] = proba*alpha*gamma*p*x[0]*x[2] - delta*x[0]\n",
    "    dx[1] = delta*x[0] -lbd*x[1] -iota*x[1]\n",
    "    dx[2] = -alpha*gamma*p*x[0]*x[2] \n",
    "    dx[3] = lbd*x[1]\n",
    "    dx[4] = iota*x[1]\n",
    "    \n",
    "    return dx"
   ]
  },
  {
   "cell_type": "code",
   "execution_count": 11,
   "metadata": {},
   "outputs": [
    {
     "data": {
      "text/plain": [
       "<matplotlib.legend.Legend at 0x1b2fc553608>"
      ]
     },
     "execution_count": 11,
     "metadata": {},
     "output_type": "execute_result"
    },
    {
     "data": {
      "image/png": "[encoded data removed]",
      "text/plain": [
       "<Figure size 432x288 with 1 Axes>"
      ]
     },
     "metadata": {
      "needs_background": "light"
     },
     "output_type": "display_data"
    }
   ],
   "source": [
    "xo = np.array([4000,0,6.6e7,0,0])\n",
    "\n",
    "delta = 1/4    # temps d'apparition des symptomes (4j)\n",
    "alpha = 7      # nombre de personnes rencontrées par jours\n",
    "gamma = 0.32   # probabilité de contaminer une personne\n",
    "lbd = 1/5      # temps de guérison (5j)\n",
    "iota = 0.01    # taux de mortalité\n",
    "\n",
    "t = np.linspace(0., 30., 300)\n",
    "solution = odeint(model3, xo,t)\n",
    "solution = solution.T\n",
    "\n",
    "plt.plot(t,solution[0]+solution[1],t,solution[2],t,solution[3],t,solution[4])\n",
    "plt.xlabel('temps en jours')\n",
    "plt.legend(['Infectés','Sains','Rétablis','Mort'])"
   ]
  },
  {
   "cell_type": "code",
   "execution_count": 12,
   "metadata": {},
   "outputs": [
    {
     "name": "stdout",
     "output_type": "stream",
     "text": [
      "Nombre de morts estimé : 51,127\n"
     ]
    }
   ],
   "source": [
    "print('Nombre de morts estimé : ' + format(solution[4][-1], '0,.0f'))"
   ]
  },
  {
   "cell_type": "code",
   "execution_count": 13,
   "metadata": {},
   "outputs": [
    {
     "name": "stdout",
     "output_type": "stream",
     "text": [
      "Nombre total d'infectés : 1,073,663\n"
     ]
    }
   ],
   "source": [
    "print('Nombre total d\\'infectés : '+ format(solution[4][-1] + solution[3][-1], '0,.0f'))"
   ]
  },
  {
   "cell_type": "code",
   "execution_count": null,
   "metadata": {},
   "outputs": [],
   "source": []
  }
 ],
 "metadata": {
  "kernelspec": {
   "display_name": "Python 3",
   "language": "python",
   "name": "python3"
  },
  "language_info": {
   "codemirror_mode": {
    "name": "ipython",
    "version": 3
   },
   "file_extension": ".py",
   "mimetype": "text/x-python",
   "name": "python",
   "nbconvert_exporter": "python",
   "pygments_lexer": "ipython3",
   "version": "3.7.4"
  }
 },
 "nbformat": 4,
 "nbformat_minor": 4
}
